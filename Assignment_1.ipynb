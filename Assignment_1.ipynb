{
 "cells": [
  {
   "cell_type": "code",
   "execution_count": null,
   "metadata": {},
   "outputs": [],
   "source": [
    "#1.Write a program to get a user input in the form of a list data type. Return a list by removing all the duplicates.\n",
    "\n",
    "s=set(input('Enter Numbers '))\n",
    "\n",
    "print(s)\n"
   ]
  },
  {
   "cell_type": "code",
   "execution_count": null,
   "metadata": {
    "scrolled": true
   },
   "outputs": [],
   "source": [
    "#2program to create a user defined tuple with ‘int’ data type\n",
    "\n",
    "t=tuple(input('Enter integers '))\n",
    "\n",
    "print(type(t))\n",
    "\n",
    "print(len(t)) #length of tuples\n",
    "\n",
    "print(max(t))#maximum no. in tuple\n",
    "\n",
    "print(min(t))#minimum no. in tuple\n",
    "\n",
    "print(sum(t))#error in finding sum\n"
   ]
  },
  {
   "cell_type": "code",
   "execution_count": null,
   "metadata": {},
   "outputs": [],
   "source": [
    "#3Given a number and ith bit, change the ith bit of that number to 1. Example of bitwise and shift opeerators\n",
    "\n",
    "num=int(input(\"Enter the number- \"))\n",
    "\n",
    "i=int(input(\"Enter value of- \"))\n",
    "\n",
    "mag=1<<i      #1*2to the power i\n",
    "\n",
    "bit=(num^mag) #exor of both\n",
    "\n",
    "print(bit)"
   ]
  },
  {
   "cell_type": "code",
   "execution_count": null,
   "metadata": {},
   "outputs": [],
   "source": [
    "#4 Given a number, print 1 if the number is odd otherwise print 0\n",
    "#example of ternary operator\n",
    "\n",
    "num=int(input(\"Enter number to check even or odd \"))\n",
    "num=0 if num%2==0 else 1\n",
    "print(num)"
   ]
  },
  {
   "cell_type": "code",
   "execution_count": null,
   "metadata": {},
   "outputs": [],
   "source": [
    "#5Given two lists of integers A and B.\n",
    "#Write a program to merge them into a single sorted list that contains every item from\n",
    "#list A and B in ascending order\n",
    "\n",
    "list1=list(input(\"enter items for list1- \"))\n",
    "\n",
    "list2=list(input(\"Enter items for list2- \"))\n",
    "\n",
    "list3=list1+list2\n",
    "\n",
    "list3.sort()\n",
    "\n",
    "print(list3)\n"
   ]
  },
  {
   "cell_type": "code",
   "execution_count": null,
   "metadata": {},
   "outputs": [],
   "source": []
  }
 ],
 "metadata": {
  "kernelspec": {
   "display_name": "Python 3",
   "language": "python",
   "name": "python3"
  }
 },
 "nbformat": 4,
 "nbformat_minor": 4
}
