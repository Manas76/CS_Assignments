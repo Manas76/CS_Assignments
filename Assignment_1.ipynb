{
 "cells": [
  {
   "cell_type": "code",
   "execution_count": 80,
   "metadata": {},
   "outputs": [
    {
     "name": "stdout",
     "output_type": "stream",
     "text": [
      "Enter Numbers 32423\n",
      "<class 'set'>\n"
     ]
    }
   ],
   "source": [
    "#1.Write a program to get a user input in the form of a list data type. Return a list by removing all the duplicates.\n",
    "\n",
    "s=set(input('Enter Numbers '))\n",
    "\n",
    "print(type(s))\n"
   ]
  },
  {
   "cell_type": "code",
   "execution_count": 89,
   "metadata": {
    "scrolled": true
   },
   "outputs": [
    {
     "name": "stdout",
     "output_type": "stream",
     "text": [
      "5\n",
      "9\n",
      "8\n",
      "1\n",
      "<class 'tuple'>\n",
      "4\n",
      "9\n",
      "1\n",
      "23\n"
     ]
    }
   ],
   "source": [
    "#2program to create a user defined tuple with ‘int’ data type\n",
    "\n",
    "#t=tuple(input('Enter integers '))\n",
    "\n",
    "t = (int(input()),int(input()),int(input()),int(input()))\n",
    "\n",
    "\n",
    "print(type(t))\n",
    "\n",
    "print(len(t)) #length of tuples\n",
    "\n",
    "print(max(t))#maximum no. in tuple\n",
    "\n",
    "print(min(t))#minimum no. in tuple\n",
    "\n",
    "print(sum(t))#error in finding sum\n"
   ]
  },
  {
   "cell_type": "code",
   "execution_count": null,
   "metadata": {},
   "outputs": [],
   "source": [
    "#3Given a number and ith bit, change the ith bit of that number to 1. Example of bitwise and shift opeerators\n",
    "\n",
    "num=int(input(\"Enter the number- \"))\n",
    "\n",
    "i=int(input(\"Enter value of- \"))\n",
    "\n",
    "mag=1<<i      #1*2to the power i\n",
    "\n",
    "bit=(num^mag) #exor of both\n",
    "\n",
    "print(bit)"
   ]
  },
  {
   "cell_type": "code",
   "execution_count": null,
   "metadata": {},
   "outputs": [],
   "source": [
    "#4 Given a number, print 1 if the number is odd otherwise print 0\n",
    "#example of ternary operator\n",
    "\n",
    "num=int(input(\"Enter number to check even or odd \"))\n",
    "num=0 if num%2==0 else 1\n",
    "print(num)"
   ]
  },
  {
   "cell_type": "code",
   "execution_count": null,
   "metadata": {},
   "outputs": [],
   "source": [
    "#5Given two lists of integers A and B.\n",
    "#Write a program to merge them into a single sorted list that contains every item from\n",
    "#list A and B in ascending order\n",
    "\n",
    "list1=list(input(\"enter items for list1- \"))\n",
    "\n",
    "list2=list(input(\"Enter items for list2- \"))\n",
    "\n",
    "list3=list1+list2\n",
    "\n",
    "list3.sort()\n",
    "\n",
    "print(list3)\n"
   ]
  },
  {
   "cell_type": "code",
   "execution_count": 2,
   "metadata": {},
   "outputs": [
    {
     "name": "stdout",
     "output_type": "stream",
     "text": [
      "Enter marks 21\n",
      "Enter name w\n",
      "Enter marks 33\n",
      "Enter name t\n",
      "Enter marks 98\n",
      "Enter name rt\n",
      "Enter marks 45\n",
      "Enter name fd\n",
      "Enter marks 34\n",
      "Enter name ss\n",
      "[21, 33, 34, 45, 98]\n"
     ]
    }
   ],
   "source": [
    "#6\n",
    "dct = {}\n",
    "\"\"\"for i in range(5):\n",
    "    name  = input('Enter name ')\n",
    "    marks = int(input('Enter marks '))\n",
    "    dct[name] =marks\"\"\"\n",
    "\n",
    "# 2\n",
    "dct[input('Enter name ')] = int(input('Enter marks '))\n",
    "dct[input('Enter name ')] = int(input('Enter marks '))\n",
    "dct[input('Enter name ')] = int(input('Enter marks '))\n",
    "dct[input('Enter name ')] = int(input('Enter marks '))\n",
    "dct[input('Enter name ')] = int(input('Enter marks '))\n",
    "print(sorted(dct.values()))"
   ]
  },
  {
   "cell_type": "code",
   "execution_count": null,
   "metadata": {},
   "outputs": [],
   "source": []
  }
 ],
 "metadata": {
  "kernelspec": {
   "display_name": "Python 3",
   "language": "python",
   "name": "python3"
  },
  "language_info": {
   "codemirror_mode": {
    "name": "ipython",
    "version": 3
   },
   "file_extension": ".py",
   "mimetype": "text/x-python",
   "name": "python",
   "nbconvert_exporter": "python",
   "pygments_lexer": "ipython3",
   "version": "3.7.6"
  }
 },
 "nbformat": 4,
 "nbformat_minor": 4
}
